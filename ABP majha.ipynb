{
 "cells": [
  {
   "cell_type": "code",
   "execution_count": 112,
   "metadata": {},
   "outputs": [
    {
     "name": "stderr",
     "output_type": "stream",
     "text": [
      "C:\\Users\\AjayShelar\\Anaconda3\\lib\\site-packages\\ipykernel_launcher.py:27: DeprecationWarning: MyOpener style of invoking requests is deprecated. Use newer urlopen functions/methods\n"
     ]
    },
    {
     "name": "stdout",
     "output_type": "stream",
     "text": [
      " पुण्यात ओला कॅबमध्ये महिलेची प्रसूती, बाळासह आई सुखरुप  \n",
      "\n",
      "\r\n",
      "          Thursday, 5 October 2017 11:18 PM      \n",
      "\n",
      "पुणे : पुण्यात एका महिलेने ओला कारमध्येच मुलाला जन्म दिला. पुण्याच्या कोंढवा भागात राहणारी ही महिला तिच्या सासूसोबत तपासणीसाठी डॉक्टरांकडे निघाली होती. मात्र वाटेतच या महिलेला प्रसूती वेदना सुरु झाल्या आणि हॉस्पिटलला पोहचण्याआधीच चालत्या कारमध्येच तिची प्रसूतीही झाली.\n",
      "किशोरी आणि रमेश सिंग आज अतिशय आनंदाने आणि समाधानाने त्यांच्या तीन दिवसांच्या बाळाला घेऊन हॉस्पिटलबाहेर पडले. हॉस्पिटलमधून त्यांना घरी पोहोचवण्यासाठी तोच ओला कॅबचा ड्रायव्हर आला होता, जो तीन दिवसांपूर्वी त्यांच्यासाठी अक्षरश: देवदूत ठरला.\n",
      "पुण्यातील कोंढवा भागात राहणाऱ्या सिंग दाम्पत्याला त्यांच्या पहिल्या अपत्याची चाहूल लागली आणि त्यांनी मंगळवार पेठेतील पुणे महापालिकेच्या कमला नेहरु रुग्णालयात तपासण्या सुरु केल्या. सोमवारीही किशोरी तिच्या सासूसह कमला नेहरु हॉस्पिटलमध्ये येण्यासाठी निघाल्या. त्यासाठी ओला अॅपवरुन कार बुक करण्यात आली. मात्र गाडीत बसताच किशोरीना प्रसूती वेदना सुरु झाल्या आणि वाटेतच त्यांनी बाळाला जन्म दिला.\n",
      "ओला कॅबचे ड्रायव्हर यशवंत गलांडे यांच्यासाठीही हा कसोटीचा क्षण होता. कारण किशोरी प्रसूत झाल्या, त्यावेळी हॉस्पिटल अजून पाच किलोमीटर दूर होतं. पुण्याच्या वाहतूक कोंडीतून मार्ग काढत तात्काळ हॉस्पिटलला पोहोचणं गरजेचं होतं.\n",
      "संध्याकाळच्या वाहतूक कोंडीतून मार्ग काढत ही ओला कार अखेर कमला नेहरु हॉस्पिटलला पोहोचली आणि सर्वांचा जीव भांड्यात पडला. ओला कंपनीच्या व्यवस्थापनाला या घटनेची माहिती कळताच कंपनीने किशोरी आणि रमेश सिंग या दाम्पत्याला पुढील पाच वर्षे ओला कारची सर्व्हिस मोफत देणार असल्याचं जाहीर केलं आहे.\n",
      "खरंतर भारतासारख्या महाकाय देशात कधी विमानात तर कधी रेल्वेमध्ये,  तर कधी चालत्या वाहनांमध्येही मुलांचे जन्म होत असतात. प्रवासादरम्यान काही घटकेचे सोबती असलेले प्रवासी या दरम्यान माणुसकीच दर्शन घडवतात आणि अडचणीत सापडलेल्या महिलेची आणि तिच्या कुटुंबाची सुटका करतात. यावेळी ही भूमिका चंद्रकांत गलांडे या कॅब ड्रायव्हरने पार पाडली.\n",
      " \n",
      "\n",
      "\n",
      "\n",
      "\n",
      "\n"
     ]
    }
   ],
   "source": [
    "from imp import reload\n",
    "import urllib\n",
    "import requests\n",
    "from bs4 import BeautifulSoup\n",
    "from urllib.request import FancyURLopener\n",
    "from lxml import etree as ET\n",
    "from lxml import html\n",
    "from lxml import html as lh\n",
    "# from urllib.parse import urljoin\n",
    "import time\n",
    "import sys\n",
    "import os\n",
    "import os.path\n",
    "#import pymongo\n",
    "# from newspaper import Config, Article\n",
    "import string\n",
    "import random\n",
    "import re\n",
    "# import hashlib\n",
    "import datetime\n",
    "import calendar\n",
    "\n",
    "def get_content(url):\n",
    "    class MyOpener(FancyURLopener):\n",
    "        version = 'Mozilla/5.0 (Windows; U; Windows NT 5.1; it; rv:1.8.1.11) Gecko/20071127 Firefox/2.0.0.11'\n",
    "\n",
    "    MyOpener = MyOpener()\n",
    "    page = MyOpener.open(url)\n",
    "    xml = ET.parse(page)\n",
    "\n",
    "    perma = {}\n",
    "    items = xml.findall('//item')\n",
    "    for item in items:\n",
    "        link = item.find('./link')\n",
    "        title = item.find('./title')\n",
    "        perma[link.text] = title.text\n",
    "        # print(link.text)\n",
    "        # print(title.text)\n",
    "    #print(perma)\n",
    "    for k in sorted(perma)[:1]:\n",
    "#         print(k)\n",
    "#         print(k, perma[k].encode('UTF-8'))\n",
    "        html = requests.get(\"http://abpmajha.abplive.in/pune/womens-delivery-in-ola-cab-in-pune-latest-updates-465060\")\n",
    "#         print(html.status_code)\n",
    "        if html.status_code == 200 or html.status_code == 404:\n",
    "            soup = BeautifulSoup(html.content, \"lxml\")\n",
    "            if soup.find('div', class_='col-sm-9'):\n",
    "                article = soup.find('div', class_='col-sm-9')\n",
    "                \n",
    "                if article.find('h2', itemprop='headline'):\n",
    "                    Data = article.find('h2', itemprop='headline')\n",
    "                    Data2 = article.find('h2', class_='small_intro')\n",
    "                    print(Data.text,'\\n')\n",
    "#                     print(Data2.text)\n",
    "                \n",
    "                if article.find('div', class_='col-sm-12 _src'):\n",
    "                    Data = article.find('span', itemprop='dateModified')\n",
    "                    print(Data.text.strip('>'))\n",
    "                \n",
    "                    \n",
    "                    \n",
    "                if article.find('div', class_='_picCon'):\n",
    "                    Data = article.find('div', class_='_picCon')\n",
    "                    print(Data.text)\n",
    "        \n",
    "    \n",
    "\n",
    "def main():\n",
    "        link = 'http://abpmajha.abplive.in/home/feed'\n",
    "        get_content(link)\n",
    "\n",
    "if __name__ == '__main__':\n",
    "\tmain()\n"
   ]
  },
  {
   "cell_type": "code",
   "execution_count": null,
   "metadata": {
    "collapsed": true
   },
   "outputs": [],
   "source": []
  }
 ],
 "metadata": {
  "kernelspec": {
   "display_name": "Python 3",
   "language": "python",
   "name": "python3"
  },
  "language_info": {
   "codemirror_mode": {
    "name": "ipython",
    "version": 3
   },
   "file_extension": ".py",
   "mimetype": "text/x-python",
   "name": "python",
   "nbconvert_exporter": "python",
   "pygments_lexer": "ipython3",
   "version": "3.6.2"
  }
 },
 "nbformat": 4,
 "nbformat_minor": 2
}
