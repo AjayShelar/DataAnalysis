{
 "cells": [
  {
   "cell_type": "code",
   "execution_count": 4,
   "metadata": {
    "collapsed": true
   },
   "outputs": [],
   "source": [
    "from bs4 import BeautifulSoup\n",
    "import requests\n",
    "\n",
    "\n",
    "#gainers url\n",
    "url = 'http://www.bseindia.com/markets/equity/EQReports/mktwatchR.aspx?expandable=2&filter=gainer*all$all$'\n",
    "page = requests.get(url)\n",
    "\n",
    "soup = BeautifulSoup(page.content, 'html.parser')\n",
    "table = soup.find( \"table\", {\"id\":\"ctl00_ContentPlaceHolder1_grd1\"} )\n",
    "\n",
    "tr = table.find_all('a', class_='tablebluelink')\n",
    "\n",
    "#getting all company names\n",
    "company = []\n",
    "for i in range(len(tr)):\n",
    "    company.append(tr[i].text)\n",
    "\n",
    "tr = table.find_all('td', class_='TTRow_right')\n",
    "\n",
    "# LTP of a company\n",
    "LTP = []\n",
    "for i in range(len(tr)):\n",
    "    LTP.append(tr[i].text)\n",
    "\n",
    "#change of a company in Chg list\n",
    "Chg = []\n",
    "for i in range(len(LTP)):\n",
    "    if i+1 < len(LTP):\n",
    "        Chg.append(LTP[i+1])\n",
    "    \n",
    "#changing datatype of all elements of lists to string\n",
    "[str(i) for i in LTP]\n",
    "[str(i) for i in Chg]\n",
    "[str(i) for i in company]\n",
    "\n",
    "#slicing for top 5 only\n",
    "LTP = LTP[0:5]\n",
    "Chg = Chg[0:5]\n",
    "company = company[0:5]"
   ]
  },
  {
   "cell_type": "code",
   "execution_count": 5,
   "metadata": {
    "collapsed": true
   },
   "outputs": [],
   "source": [
    "from pymongo import MongoClient\n",
    "import urllib \n",
    "\n",
    "password = urllib.parse.quote_plus('gistinterns@4321@!')\n",
    "mongo_client = MongoClient('mongodb://gistinterns:' + password + '@api3.gistai.com:30001')\n",
    "\n",
    "\n",
    "\n",
    "\n",
    "def insertDocument(dbName,mongoCollection,data):\n",
    "    dbGistButton = mongo_client[dbName]\n",
    "    collection = dbGistButton[mongoCollection]\n",
    "    insertOptions = {}\n",
    "    insertOptions['w'] = 1\n",
    "    insertOptions['j'] = True\n",
    "    try:\n",
    "        insertResult = collection.insert_one(data)\n",
    "        print(\"**********************************************INSERTED THE DATA**************************************\")\n",
    "        return insertResult.inserted_id\n",
    "    except Exception as e:\n",
    "        print(e)\n",
    "        return e"
   ]
  },
  {
   "cell_type": "code",
   "execution_count": 6,
   "metadata": {},
   "outputs": [
    {
     "name": "stdout",
     "output_type": "stream",
     "text": [
      "**********************************************INSERTED THE DATA**************************************\n",
      "**********************************************INSERTED THE DATA**************************************\n",
      "**********************************************INSERTED THE DATA**************************************\n",
      "**********************************************INSERTED THE DATA**************************************\n",
      "**********************************************INSERTED THE DATA**************************************\n"
     ]
    }
   ],
   "source": [
    "length = len(LTP)\n",
    "i =0\n",
    "while i < length:\n",
    "    insertDocument(\"Interns\", \"Ajay\", {\"loser\":'Gainer',\"Company\":company[i],\"LTP\":LTP[i], \"Chg\": Chg[i]})\n",
    "    i+=1"
   ]
  },
  {
   "cell_type": "code",
   "execution_count": null,
   "metadata": {
    "collapsed": true
   },
   "outputs": [],
   "source": []
  }
 ],
 "metadata": {
  "kernelspec": {
   "display_name": "Python 3",
   "language": "python",
   "name": "python3"
  },
  "language_info": {
   "codemirror_mode": {
    "name": "ipython",
    "version": 3
   },
   "file_extension": ".py",
   "mimetype": "text/x-python",
   "name": "python",
   "nbconvert_exporter": "python",
   "pygments_lexer": "ipython3",
   "version": "3.6.2"
  }
 },
 "nbformat": 4,
 "nbformat_minor": 2
}
