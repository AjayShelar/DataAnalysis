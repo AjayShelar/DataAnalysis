{
 "cells": [
  {
   "cell_type": "code",
   "execution_count": 10,
   "metadata": {},
   "outputs": [
    {
     "name": "stderr",
     "output_type": "stream",
     "text": [
      "/home/ajay/anaconda3/lib/python3.6/site-packages/ipykernel_launcher.py:30: DeprecationWarning: MyOpener style of invoking requests is deprecated. Use newer urlopen functions/methods\n"
     ]
    }
   ],
   "source": [
    "from imp import reload\n",
    "import urllib\n",
    "import requests\n",
    "from bs4 import BeautifulSoup\n",
    "from urllib.request import FancyURLopener\n",
    "from lxml import etree as ET\n",
    "from lxml import html\n",
    "from lxml import html as lh\n",
    "# from urllib.parse import urljoin\n",
    "import time\n",
    "import sys\n",
    "import os\n",
    "import os.path\n",
    "#import pymongo\n",
    "# from newspaper import Config, Article\n",
    "import string\n",
    "import random\n",
    "import re\n",
    "# import hashlib\n",
    "import datetime\n",
    "import calendar\n",
    "import time\n",
    "import os\n",
    "http://economictimes.indiatimes.com/markets/stocks/rssfeeds/2146842.cms\n",
    "url = 'http://economictimes.indiatimes.com/markets/stocks/rssfeeds/2146842.cms'\n",
    "\n",
    "class MyOpener(FancyURLopener):\n",
    "    version = 'Mozilla/5.0 (Windows; U; Windows NT 5.1; it; rv:1.8.1.11) Gecko/20071127 Firefox/2.0.0.11'\n",
    "\n",
    "MyOpener = MyOpener()\n",
    "page = MyOpener.open(url)\n",
    "xml = ET.parse(page)\n",
    "\n",
    "perma = {}\n",
    "items = xml.findall('//item')\n",
    "for item in items:\n",
    "    link = item.find('./link')\n",
    "    title = item.find('./title')\n",
    "    perma[link.text] = title.text\n",
    "    \n",
    "    #getting articles titles from et for stock\n",
    "articles = []\n",
    "for value in perma.values():\n",
    "    articles.append(value)\n",
    "        \n",
    "\n",
    "#         print(perma)\n",
    "#     for k in sorted(perma)[:10]:\n",
    "#         print(k)\n",
    "#         html = requests.get(k)\n",
    "# #         print(html.status_code)\n",
    "        \n",
    "#         if html.status_code == 200 or html.status_code == 404:\n",
    "#             soup = BeautifulSoup(html.content, \"lxml\")\n",
    "#             if soup.find('div', class_='publish_on flt'):\n",
    "#                 Date =soup.find('div', class_='publish_on flt')\n",
    "#                 print(Date.text, '\\n\\n')\n",
    "            \n",
    "#             if soup.find('div', class_='Normal'):\n",
    "#                 article = soup.find('div', class_='Normal')\n",
    "#                 print(article.text, '\\n\\n')\n",
    "            \n",
    "#             date_time = Date.text.replace(' IST','').replace('Updated: ','')\n",
    "#             print(date_time)\n",
    "#             pattern = '%b %d, %Y, %I.%M %p'\n",
    "#             epoch = int(time.mktime(time.strptime(date_time, pattern)))\n",
    "#             os.environ['TZ']='UTC'\n",
    "#             print(epoch)\n",
    "\n",
    "\n",
    "  \n",
    "    \n",
    "\n",
    "\n",
    "        \n",
    "        \n",
    "    \n",
    "\n",
    "\n",
    "\n",
    "\n"
   ]
  },
  {
   "cell_type": "code",
   "execution_count": 11,
   "metadata": {
    "collapsed": true
   },
   "outputs": [],
   "source": [
    "from pymongo import MongoClient\n",
    "import urllib \n",
    "\n",
    "password = urllib.parse.quote_plus('gistinterns@4321@!')\n",
    "mongo_client = MongoClient('mongodb://gistinterns:' + password + '@api3.gistai.com:30001')\n",
    "\n",
    "\n",
    "\n",
    "\n",
    "def insertDocument(dbName,mongoCollection,data):\n",
    "    dbGistButton = mongo_client[dbName]\n",
    "    collection = dbGistButton[mongoCollection]\n",
    "    insertOptions = {}\n",
    "    insertOptions['w'] = 1\n",
    "    insertOptions['j'] = True\n",
    "    try:\n",
    "        insertResult = collection.insert_one(data)\n",
    "        print(\"**********************************************INSERTED THE DATA**************************************\")\n",
    "        return insertResult.inserted_id\n",
    "    except Exception as e:\n",
    "        print(e)\n",
    "        return e"
   ]
  },
  {
   "cell_type": "code",
   "execution_count": 12,
   "metadata": {},
   "outputs": [
    {
     "name": "stdout",
     "output_type": "stream",
     "text": [
      "**********************************************INSERTED THE DATA**************************************\n",
      "**********************************************INSERTED THE DATA**************************************\n",
      "**********************************************INSERTED THE DATA**************************************\n",
      "**********************************************INSERTED THE DATA**************************************\n",
      "**********************************************INSERTED THE DATA**************************************\n",
      "**********************************************INSERTED THE DATA**************************************\n",
      "**********************************************INSERTED THE DATA**************************************\n",
      "**********************************************INSERTED THE DATA**************************************\n",
      "**********************************************INSERTED THE DATA**************************************\n",
      "**********************************************INSERTED THE DATA**************************************\n",
      "**********************************************INSERTED THE DATA**************************************\n",
      "**********************************************INSERTED THE DATA**************************************\n",
      "**********************************************INSERTED THE DATA**************************************\n",
      "**********************************************INSERTED THE DATA**************************************\n",
      "**********************************************INSERTED THE DATA**************************************\n"
     ]
    }
   ],
   "source": [
    "length = len(articles)\n",
    "i =0\n",
    "while i < length:\n",
    "    insertDocument(\"Interns\", \"Ajay\", {\"ArtTitles\":articles[i]})\n",
    "    i+=1"
   ]
  },
  {
   "cell_type": "code",
   "execution_count": null,
   "metadata": {
    "collapsed": true
   },
   "outputs": [],
   "source": []
  }
 ],
 "metadata": {
  "kernelspec": {
   "display_name": "Python 3",
   "language": "python",
   "name": "python3"
  },
  "language_info": {
   "codemirror_mode": {
    "name": "ipython",
    "version": 3
   },
   "file_extension": ".py",
   "mimetype": "text/x-python",
   "name": "python",
   "nbconvert_exporter": "python",
   "pygments_lexer": "ipython3",
   "version": "3.6.2"
  }
 },
 "nbformat": 4,
 "nbformat_minor": 2
}
