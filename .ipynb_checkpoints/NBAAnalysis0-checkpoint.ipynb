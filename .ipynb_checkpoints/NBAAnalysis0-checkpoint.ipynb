{
 "cells": [
  {
   "cell_type": "code",
   "execution_count": 1,
   "metadata": {
    "collapsed": true
   },
   "outputs": [],
   "source": [
    "\n",
    "\n",
    "\n",
    "#Copyright: These datasets were prepared using publicly available data.\n",
    "\n",
    "\n",
    "#Comments:\n",
    "#Seasons are labeled based on the first year in the season\n",
    "#E.g. the 2012-2013 season is preseneted as simply 2012\n",
    "\n",
    "#Notes and Corrections to the data:\n",
    "#Kevin Durant: 2006 - College Data Used\n",
    "#Kevin Durant: 2005 - Proxied With 2006 Data\n",
    "#Derrick Rose: 2012 - Did Not Play\n",
    "#Derrick Rose: 2007 - College Data Used\n",
    "#Derrick Rose: 2006 - Proxied With 2007 Data\n",
    "#Derrick Rose: 2005 - Proxied With 2007 Data\n",
    "\n",
    "#Import numpy\n",
    "import numpy as np\n",
    "\n",
    "#Seasons\n",
    "Seasons = [\"2005\",\"2006\",\"2007\",\"2008\",\"2009\",\"2010\",\"2011\",\"2012\",\"2013\",\"2014\"]\n",
    "Sdict = {\"2005\":0,\"2006\":1,\"2007\":2,\"2008\":3,\"2009\":4,\"2010\":5,\"2011\":6,\"2012\":7,\"2013\":8,\"2014\":9}\n",
    "\n",
    "#Players\n",
    "Players = [\"KobeBryant\",\"JoeJohnson\",\"LeBronJames\",\"CarmeloAnthony\",\"DwightHoward\",\"ChrisBosh\",\"ChrisPaul\",\"KevinDurant\",\"DerrickRose\",\"DwayneWade\"]\n",
    "Pdict = {\"KobeBryant\":0,\"JoeJohnson\":1,\"LeBronJames\":2,\"CarmeloAnthony\":3,\"DwightHoward\":4,\"ChrisBosh\":5,\"ChrisPaul\":6,\"KevinDurant\":7,\"DerrickRose\":8,\"DwayneWade\":9}\n",
    "\n",
    "#Salaries\n",
    "KobeBryant_Salary = [15946875,17718750,19490625,21262500,23034375,24806250,25244493,27849149,30453805,23500000]\n",
    "JoeJohnson_Salary = [12000000,12744189,13488377,14232567,14976754,16324500,18038573,19752645,21466718,23180790]\n",
    "LeBronJames_Salary = [4621800,5828090,13041250,14410581,15779912,14500000,16022500,17545000,19067500,20644400]\n",
    "CarmeloAnthony_Salary = [3713640,4694041,13041250,14410581,15779912,17149243,18518574,19450000,22407474,22458000]\n",
    "DwightHoward_Salary = [4493160,4806720,6061274,13758000,15202590,16647180,18091770,19536360,20513178,21436271]\n",
    "ChrisBosh_Salary = [3348000,4235220,12455000,14410581,15779912,14500000,16022500,17545000,19067500,20644400]\n",
    "ChrisPaul_Salary = [3144240,3380160,3615960,4574189,13520500,14940153,16359805,17779458,18668431,20068563]\n",
    "KevinDurant_Salary = [0,0,4171200,4484040,4796880,6053663,15506632,16669630,17832627,18995624]\n",
    "DerrickRose_Salary = [0,0,0,4822800,5184480,5546160,6993708,16402500,17632688,18862875]\n",
    "DwayneWade_Salary = [3031920,3841443,13041250,14410581,15779912,14200000,15691000,17182000,18673000,15000000]\n",
    "#Matrix\n",
    "Salary = np.array([KobeBryant_Salary, JoeJohnson_Salary, LeBronJames_Salary, CarmeloAnthony_Salary, DwightHoward_Salary, ChrisBosh_Salary, ChrisPaul_Salary, KevinDurant_Salary, DerrickRose_Salary, DwayneWade_Salary])\n",
    "\n",
    "#Games \n",
    "KobeBryant_G = [80,77,82,82,73,82,58,78,6,35]\n",
    "JoeJohnson_G = [82,57,82,79,76,72,60,72,79,80]\n",
    "LeBronJames_G = [79,78,75,81,76,79,62,76,77,69]\n",
    "CarmeloAnthony_G = [80,65,77,66,69,77,55,67,77,40]\n",
    "DwightHoward_G = [82,82,82,79,82,78,54,76,71,41]\n",
    "ChrisBosh_G = [70,69,67,77,70,77,57,74,79,44]\n",
    "ChrisPaul_G = [78,64,80,78,45,80,60,70,62,82]\n",
    "KevinDurant_G = [35,35,80,74,82,78,66,81,81,27]\n",
    "DerrickRose_G = [40,40,40,81,78,81,39,0,10,51]\n",
    "DwayneWade_G = [75,51,51,79,77,76,49,69,54,62]\n",
    "#Matrix\n",
    "Games = np.array([KobeBryant_G, JoeJohnson_G, LeBronJames_G, CarmeloAnthony_G, DwightHoward_G, ChrisBosh_G, ChrisPaul_G, KevinDurant_G, DerrickRose_G, DwayneWade_G])\n",
    "\n",
    "#Minutes Played\n",
    "KobeBryant_MP = [3277,3140,3192,2960,2835,2779,2232,3013,177,1207]\n",
    "JoeJohnson_MP = [3340,2359,3343,3124,2886,2554,2127,2642,2575,2791]\n",
    "LeBronJames_MP = [3361,3190,3027,3054,2966,3063,2326,2877,2902,2493]\n",
    "CarmeloAnthony_MP = [2941,2486,2806,2277,2634,2751,1876,2482,2982,1428]\n",
    "DwightHoward_MP = [3021,3023,3088,2821,2843,2935,2070,2722,2396,1223]\n",
    "ChrisBosh_MP = [2751,2658,2425,2928,2526,2795,2007,2454,2531,1556]\n",
    "ChrisPaul_MP = [2808,2353,3006,3002,1712,2880,2181,2335,2171,2857]\n",
    "KevinDurant_MP = [1255,1255,2768,2885,3239,3038,2546,3119,3122,913]\n",
    "DerrickRose_MP = [1168,1168,1168,3000,2871,3026,1375,0,311,1530]\n",
    "DwayneWade_MP = [2892,1931,1954,3048,2792,2823,1625,2391,1775,1971]\n",
    "#Matrix\n",
    "MinutesPlayed = np.array([KobeBryant_MP, JoeJohnson_MP, LeBronJames_MP, CarmeloAnthony_MP, DwightHoward_MP, ChrisBosh_MP, ChrisPaul_MP, KevinDurant_MP, DerrickRose_MP, DwayneWade_MP])\n",
    "\n",
    "#Field Goals\n",
    "KobeBryant_FG = [978,813,775,800,716,740,574,738,31,266]\n",
    "JoeJohnson_FG = [632,536,647,620,635,514,423,445,462,446]\n",
    "LeBronJames_FG = [875,772,794,789,768,758,621,765,767,624]\n",
    "CarmeloAnthony_FG = [756,691,728,535,688,684,441,669,743,358]\n",
    "DwightHoward_FG = [468,526,583,560,510,619,416,470,473,251]\n",
    "ChrisBosh_FG = [549,543,507,615,600,524,393,485,492,343]\n",
    "ChrisPaul_FG = [407,381,630,631,314,430,425,412,406,568]\n",
    "KevinDurant_FG = [306,306,587,661,794,711,643,731,849,238]\n",
    "DerrickRose_FG = [208,208,208,574,672,711,302,0,58,338]\n",
    "DwayneWade_FG = [699,472,439,854,719,692,416,569,415,509]\n",
    "#Matrix\n",
    "FieldGoals  = np.array([KobeBryant_FG, JoeJohnson_FG, LeBronJames_FG, CarmeloAnthony_FG, DwightHoward_FG, ChrisBosh_FG, ChrisPaul_FG, KevinDurant_FG, DerrickRose_FG, DwayneWade_FG])\n",
    "\n",
    "#Field Goal Attempts\n",
    "KobeBryant_FGA = [2173,1757,1690,1712,1569,1639,1336,1595,73,713]\n",
    "JoeJohnson_FGA = [1395,1139,1497,1420,1386,1161,931,1052,1018,1025]\n",
    "LeBronJames_FGA = [1823,1621,1642,1613,1528,1485,1169,1354,1353,1279]\n",
    "CarmeloAnthony_FGA = [1572,1453,1481,1207,1502,1503,1025,1489,1643,806]\n",
    "DwightHoward_FGA = [881,873,974,979,834,1044,726,813,800,423]\n",
    "ChrisBosh_FGA = [1087,1094,1027,1263,1158,1056,807,907,953,745]\n",
    "ChrisPaul_FGA = [947,871,1291,1255,637,928,890,856,870,1170]\n",
    "KevinDurant_FGA = [647,647,1366,1390,1668,1538,1297,1433,1688,467]\n",
    "DerrickRose_FGA = [436,436,436,1208,1373,1597,695,0,164,835]\n",
    "DwayneWade_FGA = [1413,962,937,1739,1511,1384,837,1093,761,1084]\n",
    "#Matrix\n",
    "FieldGoalAttempts = np.array([KobeBryant_FGA, JoeJohnson_FGA, LeBronJames_FGA, CarmeloAnthony_FGA, DwightHoward_FGA, ChrisBosh_FGA, ChrisPaul_FGA, KevinDurant_FGA, DerrickRose_FGA, DwayneWade_FGA])\n",
    "\n",
    "#Points\n",
    "KobeBryant_PTS = [2832,2430,2323,2201,1970,2078,1616,2133,83,782]\n",
    "JoeJohnson_PTS = [1653,1426,1779,1688,1619,1312,1129,1170,1245,1154]\n",
    "LeBronJames_PTS = [2478,2132,2250,2304,2258,2111,1683,2036,2089,1743]\n",
    "CarmeloAnthony_PTS = [2122,1881,1978,1504,1943,1970,1245,1920,2112,966]\n",
    "DwightHoward_PTS = [1292,1443,1695,1624,1503,1784,1113,1296,1297,646]\n",
    "ChrisBosh_PTS = [1572,1561,1496,1746,1678,1438,1025,1232,1281,928]\n",
    "ChrisPaul_PTS = [1258,1104,1684,1781,841,1268,1189,1186,1185,1564]\n",
    "KevinDurant_PTS = [903,903,1624,1871,2472,2161,1850,2280,2593,686]\n",
    "DerrickRose_PTS = [597,597,597,1361,1619,2026,852,0,159,904]\n",
    "DwayneWade_PTS = [2040,1397,1254,2386,2045,1941,1082,1463,1028,1331]\n",
    "#Matrix\n",
    "Points = np.array([KobeBryant_PTS, JoeJohnson_PTS, LeBronJames_PTS, CarmeloAnthony_PTS, DwightHoward_PTS, ChrisBosh_PTS, ChrisPaul_PTS, KevinDurant_PTS, DerrickRose_PTS, DwayneWade_PTS])             \n",
    "                  \n"
   ]
  },
  {
   "cell_type": "code",
   "execution_count": 2,
   "metadata": {},
   "outputs": [
    {
     "name": "stdout",
     "output_type": "stream",
     "text": [
      "[[15946875 17718750 19490625 21262500 23034375 24806250 25244493 27849149\n",
      "  30453805 23500000]\n",
      " [12000000 12744189 13488377 14232567 14976754 16324500 18038573 19752645\n",
      "  21466718 23180790]\n",
      " [ 4621800  5828090 13041250 14410581 15779912 14500000 16022500 17545000\n",
      "  19067500 20644400]\n",
      " [ 3713640  4694041 13041250 14410581 15779912 17149243 18518574 19450000\n",
      "  22407474 22458000]\n",
      " [ 4493160  4806720  6061274 13758000 15202590 16647180 18091770 19536360\n",
      "  20513178 21436271]\n",
      " [ 3348000  4235220 12455000 14410581 15779912 14500000 16022500 17545000\n",
      "  19067500 20644400]\n",
      " [ 3144240  3380160  3615960  4574189 13520500 14940153 16359805 17779458\n",
      "  18668431 20068563]\n",
      " [       0        0  4171200  4484040  4796880  6053663 15506632 16669630\n",
      "  17832627 18995624]\n",
      " [       0        0        0  4822800  5184480  5546160  6993708 16402500\n",
      "  17632688 18862875]\n",
      " [ 3031920  3841443 13041250 14410581 15779912 14200000 15691000 17182000\n",
      "  18673000 15000000]]\n"
     ]
    }
   ],
   "source": [
    "print(Salary)"
   ]
  },
  {
   "cell_type": "code",
   "execution_count": 3,
   "metadata": {},
   "outputs": [
    {
     "data": {
      "text/plain": [
       "array([[80, 77, 82, 82, 73, 82, 58, 78,  6, 35],\n",
       "       [82, 57, 82, 79, 76, 72, 60, 72, 79, 80],\n",
       "       [79, 78, 75, 81, 76, 79, 62, 76, 77, 69],\n",
       "       [80, 65, 77, 66, 69, 77, 55, 67, 77, 40],\n",
       "       [82, 82, 82, 79, 82, 78, 54, 76, 71, 41],\n",
       "       [70, 69, 67, 77, 70, 77, 57, 74, 79, 44],\n",
       "       [78, 64, 80, 78, 45, 80, 60, 70, 62, 82],\n",
       "       [35, 35, 80, 74, 82, 78, 66, 81, 81, 27],\n",
       "       [40, 40, 40, 81, 78, 81, 39,  0, 10, 51],\n",
       "       [75, 51, 51, 79, 77, 76, 49, 69, 54, 62]])"
      ]
     },
     "execution_count": 3,
     "metadata": {},
     "output_type": "execute_result"
    }
   ],
   "source": [
    "#number of games played by player \n",
    "Games"
   ]
  },
  {
   "cell_type": "code",
   "execution_count": 4,
   "metadata": {},
   "outputs": [
    {
     "data": {
      "text/plain": [
       "array([[2832, 2430, 2323, 2201, 1970, 2078, 1616, 2133,   83,  782],\n",
       "       [1653, 1426, 1779, 1688, 1619, 1312, 1129, 1170, 1245, 1154],\n",
       "       [2478, 2132, 2250, 2304, 2258, 2111, 1683, 2036, 2089, 1743],\n",
       "       [2122, 1881, 1978, 1504, 1943, 1970, 1245, 1920, 2112,  966],\n",
       "       [1292, 1443, 1695, 1624, 1503, 1784, 1113, 1296, 1297,  646],\n",
       "       [1572, 1561, 1496, 1746, 1678, 1438, 1025, 1232, 1281,  928],\n",
       "       [1258, 1104, 1684, 1781,  841, 1268, 1189, 1186, 1185, 1564],\n",
       "       [ 903,  903, 1624, 1871, 2472, 2161, 1850, 2280, 2593,  686],\n",
       "       [ 597,  597,  597, 1361, 1619, 2026,  852,    0,  159,  904],\n",
       "       [2040, 1397, 1254, 2386, 2045, 1941, 1082, 1463, 1028, 1331]])"
      ]
     },
     "execution_count": 4,
     "metadata": {},
     "output_type": "execute_result"
    }
   ],
   "source": [
    "#points of players\n",
    "\n",
    "Points"
   ]
  },
  {
   "cell_type": "code",
   "execution_count": 5,
   "metadata": {},
   "outputs": [
    {
     "data": {
      "text/plain": [
       "{'CarmeloAnthony': 3,\n",
       " 'ChrisBosh': 5,\n",
       " 'ChrisPaul': 6,\n",
       " 'DerrickRose': 8,\n",
       " 'DwayneWade': 9,\n",
       " 'DwightHoward': 4,\n",
       " 'JoeJohnson': 1,\n",
       " 'KevinDurant': 7,\n",
       " 'KobeBryant': 0,\n",
       " 'LeBronJames': 2}"
      ]
     },
     "execution_count": 5,
     "metadata": {},
     "output_type": "execute_result"
    }
   ],
   "source": [
    "#players \n",
    "Pdict"
   ]
  },
  {
   "cell_type": "code",
   "execution_count": 6,
   "metadata": {},
   "outputs": [
    {
     "data": {
      "text/plain": [
       "array([80, 77, 82, 82, 73, 82, 58, 78,  6, 35])"
      ]
     },
     "execution_count": 6,
     "metadata": {},
     "output_type": "execute_result"
    }
   ],
   "source": [
    "# games played  by KobeBryant\n",
    "Games[Pdict['KobeBryant']]"
   ]
  },
  {
   "cell_type": "code",
   "execution_count": 7,
   "metadata": {},
   "outputs": [
    {
     "data": {
      "text/plain": [
       "6"
      ]
     },
     "execution_count": 7,
     "metadata": {},
     "output_type": "execute_result"
    }
   ],
   "source": [
    "# games played  by KobeBryant in season 2013\n",
    "Games[Pdict['KobeBryant']][Sdict['2013']]"
   ]
  },
  {
   "cell_type": "code",
   "execution_count": 8,
   "metadata": {},
   "outputs": [
    {
     "data": {
      "text/plain": [
       "array([2832, 2430, 2323, 2201, 1970, 2078, 1616, 2133,   83,  782])"
      ]
     },
     "execution_count": 8,
     "metadata": {},
     "output_type": "execute_result"
    }
   ],
   "source": [
    "# points gain by KobeBryant\n",
    "Points[Pdict['KobeBryant']]"
   ]
  },
  {
   "cell_type": "code",
   "execution_count": 9,
   "metadata": {},
   "outputs": [
    {
     "data": {
      "text/plain": [
       "83"
      ]
     },
     "execution_count": 9,
     "metadata": {},
     "output_type": "execute_result"
    }
   ],
   "source": [
    "#points gain by KobeBryant in  season 2013\n",
    "Points[Pdict['KobeBryant']][Sdict['2013']]"
   ]
  },
  {
   "cell_type": "code",
   "execution_count": 10,
   "metadata": {},
   "outputs": [
    {
     "data": {
      "text/plain": [
       "30453805"
      ]
     },
     "execution_count": 10,
     "metadata": {},
     "output_type": "execute_result"
    }
   ],
   "source": [
    "#salary of KobeBryant in season 2013\n",
    "Salary[Pdict['KobeBryant']][Sdict['2013']]"
   ]
  },
  {
   "cell_type": "code",
   "execution_count": 11,
   "metadata": {},
   "outputs": [
    {
     "data": {
      "text/plain": [
       "array([978, 813, 775, 800, 716, 740, 574, 738,  31, 266])"
      ]
     },
     "execution_count": 11,
     "metadata": {},
     "output_type": "execute_result"
    }
   ],
   "source": [
    "#Field Goals by KobeBryant\n",
    "FieldGoals[Pdict['KobeBryant']]"
   ]
  },
  {
   "cell_type": "code",
   "execution_count": 12,
   "metadata": {},
   "outputs": [
    {
     "data": {
      "text/plain": [
       "array([[978, 813, 775, 800, 716, 740, 574, 738,  31, 266],\n",
       "       [632, 536, 647, 620, 635, 514, 423, 445, 462, 446],\n",
       "       [875, 772, 794, 789, 768, 758, 621, 765, 767, 624],\n",
       "       [756, 691, 728, 535, 688, 684, 441, 669, 743, 358],\n",
       "       [468, 526, 583, 560, 510, 619, 416, 470, 473, 251],\n",
       "       [549, 543, 507, 615, 600, 524, 393, 485, 492, 343],\n",
       "       [407, 381, 630, 631, 314, 430, 425, 412, 406, 568],\n",
       "       [306, 306, 587, 661, 794, 711, 643, 731, 849, 238],\n",
       "       [208, 208, 208, 574, 672, 711, 302,   0,  58, 338],\n",
       "       [699, 472, 439, 854, 719, 692, 416, 569, 415, 509]])"
      ]
     },
     "execution_count": 12,
     "metadata": {},
     "output_type": "execute_result"
    }
   ],
   "source": [
    "FieldGoals"
   ]
  },
  {
   "cell_type": "code",
   "execution_count": 13,
   "metadata": {},
   "outputs": [
    {
     "name": "stderr",
     "output_type": "stream",
     "text": [
      "C:\\Users\\AjaySanjayShelar\\Anaconda3\\lib\\site-packages\\ipykernel_launcher.py:4: RuntimeWarning: invalid value encountered in true_divide\n",
      "  after removing the cwd from sys.path.\n"
     ]
    },
    {
     "data": {
      "text/plain": [
       "array([[ 12.225     ,  10.55844156,   9.45121951,   9.75609756,\n",
       "          9.80821918,   9.02439024,   9.89655172,   9.46153846,\n",
       "          5.16666667,   7.6       ],\n",
       "       [  7.70731707,   9.40350877,   7.8902439 ,   7.84810127,\n",
       "          8.35526316,   7.13888889,   7.05      ,   6.18055556,\n",
       "          5.84810127,   5.575     ],\n",
       "       [ 11.07594937,   9.8974359 ,  10.58666667,   9.74074074,\n",
       "         10.10526316,   9.59493671,  10.01612903,  10.06578947,\n",
       "          9.96103896,   9.04347826],\n",
       "       [  9.45      ,  10.63076923,   9.45454545,   8.10606061,\n",
       "          9.97101449,   8.88311688,   8.01818182,   9.98507463,\n",
       "          9.64935065,   8.95      ],\n",
       "       [  5.70731707,   6.41463415,   7.1097561 ,   7.08860759,\n",
       "          6.2195122 ,   7.93589744,   7.7037037 ,   6.18421053,\n",
       "          6.66197183,   6.12195122],\n",
       "       [  7.84285714,   7.86956522,   7.56716418,   7.98701299,\n",
       "          8.57142857,   6.80519481,   6.89473684,   6.55405405,\n",
       "          6.2278481 ,   7.79545455],\n",
       "       [  5.21794872,   5.953125  ,   7.875     ,   8.08974359,\n",
       "          6.97777778,   5.375     ,   7.08333333,   5.88571429,\n",
       "          6.5483871 ,   6.92682927],\n",
       "       [  8.74285714,   8.74285714,   7.3375    ,   8.93243243,\n",
       "          9.68292683,   9.11538462,   9.74242424,   9.02469136,\n",
       "         10.48148148,   8.81481481],\n",
       "       [  5.2       ,   5.2       ,   5.2       ,   7.08641975,\n",
       "          8.61538462,   8.77777778,   7.74358974,          nan,\n",
       "          5.8       ,   6.62745098],\n",
       "       [  9.32      ,   9.25490196,   8.60784314,  10.81012658,\n",
       "          9.33766234,   9.10526316,   8.48979592,   8.24637681,\n",
       "          7.68518519,   8.20967742]])"
      ]
     },
     "execution_count": 13,
     "metadata": {},
     "output_type": "execute_result"
    }
   ],
   "source": [
    "#number of goals per game by a player\n",
    "\n",
    "\n",
    "FieldGoals / Games "
   ]
  },
  {
   "cell_type": "code",
   "execution_count": 14,
   "metadata": {},
   "outputs": [
    {
     "data": {
      "text/plain": [
       "array([[ 12.225     ,  10.55844156,   9.45121951,   9.75609756,\n",
       "          9.80821918,   9.02439024,   9.89655172,   9.46153846,\n",
       "          5.16666667,   7.6       ],\n",
       "       [  7.70731707,   9.40350877,   7.8902439 ,   7.84810127,\n",
       "          8.35526316,   7.13888889,   7.05      ,   6.18055556,\n",
       "          5.84810127,   5.575     ],\n",
       "       [ 11.07594937,   9.8974359 ,  10.58666667,   9.74074074,\n",
       "         10.10526316,   9.59493671,  10.01612903,  10.06578947,\n",
       "          9.96103896,   9.04347826],\n",
       "       [  9.45      ,  10.63076923,   9.45454545,   8.10606061,\n",
       "          9.97101449,   8.88311688,   8.01818182,   9.98507463,\n",
       "          9.64935065,   8.95      ],\n",
       "       [  5.70731707,   6.41463415,   7.1097561 ,   7.08860759,\n",
       "          6.2195122 ,   7.93589744,   7.7037037 ,   6.18421053,\n",
       "          6.66197183,   6.12195122],\n",
       "       [  7.84285714,   7.86956522,   7.56716418,   7.98701299,\n",
       "          8.57142857,   6.80519481,   6.89473684,   6.55405405,\n",
       "          6.2278481 ,   7.79545455],\n",
       "       [  5.21794872,   5.953125  ,   7.875     ,   8.08974359,\n",
       "          6.97777778,   5.375     ,   7.08333333,   5.88571429,\n",
       "          6.5483871 ,   6.92682927],\n",
       "       [  8.74285714,   8.74285714,   7.3375    ,   8.93243243,\n",
       "          9.68292683,   9.11538462,   9.74242424,   9.02469136,\n",
       "         10.48148148,   8.81481481],\n",
       "       [  5.2       ,   5.2       ,   5.2       ,   7.08641975,\n",
       "          8.61538462,   8.77777778,   7.74358974,          nan,\n",
       "          5.8       ,   6.62745098],\n",
       "       [  9.32      ,   9.25490196,   8.60784314,  10.81012658,\n",
       "          9.33766234,   9.10526316,   8.48979592,   8.24637681,\n",
       "          7.68518519,   8.20967742]])"
      ]
     },
     "execution_count": 14,
     "metadata": {},
     "output_type": "execute_result"
    }
   ],
   "source": [
    "import warnings\n",
    "warnings.filterwarnings('ignore')\n",
    "\n",
    "FieldGoals / Games "
   ]
  },
  {
   "cell_type": "code",
   "execution_count": 15,
   "metadata": {},
   "outputs": [
    {
     "data": {
      "text/plain": [
       "array([[ 12.,  11.,   9.,  10.,  10.,   9.,  10.,   9.,   5.,   8.],\n",
       "       [  8.,   9.,   8.,   8.,   8.,   7.,   7.,   6.,   6.,   6.],\n",
       "       [ 11.,  10.,  11.,  10.,  10.,  10.,  10.,  10.,  10.,   9.],\n",
       "       [  9.,  11.,   9.,   8.,  10.,   9.,   8.,  10.,  10.,   9.],\n",
       "       [  6.,   6.,   7.,   7.,   6.,   8.,   8.,   6.,   7.,   6.],\n",
       "       [  8.,   8.,   8.,   8.,   9.,   7.,   7.,   7.,   6.,   8.],\n",
       "       [  5.,   6.,   8.,   8.,   7.,   5.,   7.,   6.,   7.,   7.],\n",
       "       [  9.,   9.,   7.,   9.,  10.,   9.,  10.,   9.,  10.,   9.],\n",
       "       [  5.,   5.,   5.,   7.,   9.,   9.,   8.,  nan,   6.,   7.],\n",
       "       [  9.,   9.,   9.,  11.,   9.,   9.,   8.,   8.,   8.,   8.]])"
      ]
     },
     "execution_count": 15,
     "metadata": {},
     "output_type": "execute_result"
    }
   ],
   "source": [
    "# round off values\n",
    "#field goals by every player on an average every season\n",
    "np.matrix.round(FieldGoals / Games )"
   ]
  },
  {
   "cell_type": "code",
   "execution_count": 18,
   "metadata": {},
   "outputs": [
    {
     "data": {
      "text/plain": [
       "array([[ 12.,  11.,   9.,  10.,  10.,   9.,  10.,   9.,   5.,   8.],\n",
       "       [  8.,   9.,   8.,   8.,   8.,   7.,   7.,   6.,   6.,   6.],\n",
       "       [ 11.,  10.,  11.,  10.,  10.,  10.,  10.,  10.,  10.,   9.],\n",
       "       [  9.,  11.,   9.,   8.,  10.,   9.,   8.,  10.,  10.,   9.],\n",
       "       [  6.,   6.,   7.,   7.,   6.,   8.,   8.,   6.,   7.,   6.],\n",
       "       [  8.,   8.,   8.,   8.,   9.,   7.,   7.,   7.,   6.,   8.],\n",
       "       [  5.,   6.,   8.,   8.,   7.,   5.,   7.,   6.,   7.,   7.],\n",
       "       [  9.,   9.,   7.,   9.,  10.,   9.,  10.,   9.,  10.,   9.],\n",
       "       [  5.,   5.,   5.,   7.,   9.,   9.,   8.,  nan,   6.,   7.],\n",
       "       [  9.,   9.,   9.,  11.,   9.,   9.,   8.,   8.,   8.,   8.]])"
      ]
     },
     "execution_count": 18,
     "metadata": {},
     "output_type": "execute_result"
    }
   ],
   "source": [
    "#creating dictionaary of above\n",
    "FGPerG = np.matrix.round(FieldGoals / Games )\n",
    "FGPerG"
   ]
  },
  {
   "cell_type": "code",
   "execution_count": 19,
   "metadata": {},
   "outputs": [
    {
     "data": {
      "text/plain": [
       "5.0"
      ]
     },
     "execution_count": 19,
     "metadata": {},
     "output_type": "execute_result"
    }
   ],
   "source": [
    "#Field Goals by KobeBryant in season 2013 per each game\n",
    "FGPerG[Pdict['KobeBryant']][Sdict['2013']]"
   ]
  },
  {
   "cell_type": "code",
   "execution_count": 20,
   "metadata": {},
   "outputs": [
    {
     "data": {
      "text/plain": [
       "array([[ 0.45006903,  0.46272055,  0.45857988,  0.46728972,  0.45634162,\n",
       "         0.45149481,  0.42964072,  0.46269592,  0.42465753,  0.37307153],\n",
       "       [ 0.45304659,  0.47058824,  0.43219773,  0.43661972,  0.45815296,\n",
       "         0.44272179,  0.45435016,  0.4230038 ,  0.45383104,  0.43512195],\n",
       "       [ 0.47997806,  0.47624923,  0.48355664,  0.48915065,  0.5026178 ,\n",
       "         0.51043771,  0.53122327,  0.56499261,  0.5668884 ,  0.48788116],\n",
       "       [ 0.48091603,  0.47556779,  0.49155976,  0.44324772,  0.45805593,\n",
       "         0.45508982,  0.4302439 ,  0.44929483,  0.45222155,  0.44416873],\n",
       "       [ 0.53121453,  0.60252005,  0.59856263,  0.57201226,  0.61151079,\n",
       "         0.59291188,  0.57300275,  0.57810578,  0.59125   ,  0.59338061],\n",
       "       [ 0.5050598 ,  0.49634369,  0.49367089,  0.48693587,  0.51813472,\n",
       "         0.49621212,  0.48698885,  0.53472988,  0.51626443,  0.46040268],\n",
       "       [ 0.42977825,  0.43742824,  0.4879938 ,  0.50278884,  0.49293564,\n",
       "         0.46336207,  0.47752809,  0.48130841,  0.46666667,  0.48547009],\n",
       "       [ 0.47295209,  0.47295209,  0.42972182,  0.47553957,  0.47601918,\n",
       "         0.46228869,  0.49575944,  0.51011863,  0.50296209,  0.50963597],\n",
       "       [ 0.47706422,  0.47706422,  0.47706422,  0.47516556,  0.48943918,\n",
       "         0.44520977,  0.43453237,         nan,  0.35365854,  0.40479042],\n",
       "       [ 0.49469214,  0.49064449,  0.46851654,  0.49108683,  0.47584381,\n",
       "         0.5       ,  0.49701314,  0.52058554,  0.54533509,  0.4695572 ]])"
      ]
     },
     "execution_count": 20,
     "metadata": {},
     "output_type": "execute_result"
    }
   ],
   "source": [
    "#accuraacy of the players\n",
    "Accuracy = (FieldGoals / FieldGoalAttempts )\n",
    "Accuracy"
   ]
  },
  {
   "cell_type": "code",
   "execution_count": 22,
   "metadata": {},
   "outputs": [
    {
     "data": {
      "text/plain": [
       "array([[ 45.,  46.,  46.,  47.,  46.,  45.,  43.,  46.,  42.,  37.],\n",
       "       [ 45.,  47.,  43.,  44.,  46.,  44.,  45.,  42.,  45.,  44.],\n",
       "       [ 48.,  48.,  48.,  49.,  50.,  51.,  53.,  56.,  57.,  49.],\n",
       "       [ 48.,  48.,  49.,  44.,  46.,  46.,  43.,  45.,  45.,  44.],\n",
       "       [ 53.,  60.,  60.,  57.,  61.,  59.,  57.,  58.,  59.,  59.],\n",
       "       [ 51.,  50.,  49.,  49.,  52.,  50.,  49.,  53.,  52.,  46.],\n",
       "       [ 43.,  44.,  49.,  50.,  49.,  46.,  48.,  48.,  47.,  49.],\n",
       "       [ 47.,  47.,  43.,  48.,  48.,  46.,  50.,  51.,  50.,  51.],\n",
       "       [ 48.,  48.,  48.,  48.,  49.,  45.,  43.,  nan,  35.,  40.],\n",
       "       [ 49.,  49.,  47.,  49.,  48.,  50.,  50.,  52.,  55.,  47.]])"
      ]
     },
     "execution_count": 22,
     "metadata": {},
     "output_type": "execute_result"
    }
   ],
   "source": [
    "#rounding off and considering it in percentage\n",
    "Accuracy = np.matrix.round(FieldGoals / FieldGoalAttempts, 2)*100\n",
    "Accuracy"
   ]
  },
  {
   "cell_type": "code",
   "execution_count": 23,
   "metadata": {},
   "outputs": [
    {
     "name": "stdout",
     "output_type": "stream",
     "text": [
      "{'KevinDurant', 'DwightHoward', 'ChrisBosh', 'DwayneWade', 'ChrisPaul', 'LeBronJames'}\n"
     ]
    }
   ],
   "source": [
    "#players with percentage accuracy greater than or equal to 50\n",
    "accp = [] #creating list to store players of accuracy greater than or equal to 50\n",
    "for i in range(len(Accuracy)):\n",
    "    for j in range(len(Accuracy)):\n",
    "        if(Accuracy[i][j] >= 50):\n",
    "            accp.append(Players[i])#this will store players but more than once \n",
    "accp = set(accp) #creating set so that all unique values will be displayed\n",
    "print(accp)"
   ]
  },
  {
   "cell_type": "code",
   "execution_count": null,
   "metadata": {
    "collapsed": true
   },
   "outputs": [],
   "source": []
  }
 ],
 "metadata": {
  "kernelspec": {
   "display_name": "Python 3",
   "language": "python",
   "name": "python3"
  },
  "language_info": {
   "codemirror_mode": {
    "name": "ipython",
    "version": 3
   },
   "file_extension": ".py",
   "mimetype": "text/x-python",
   "name": "python",
   "nbconvert_exporter": "python",
   "pygments_lexer": "ipython3",
   "version": "3.6.2"
  }
 },
 "nbformat": 4,
 "nbformat_minor": 2
}
