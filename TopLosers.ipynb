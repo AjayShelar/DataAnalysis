{
 "cells": [
  {
   "cell_type": "code",
   "execution_count": 6,
   "metadata": {},
   "outputs": [
    {
     "name": "stdout",
     "output_type": "stream",
     "text": [
      "[<td bgcolor=\"#DFDEDD\" height=\"15\" width=\"40\">-14.09</td>, <td bgcolor=\"#DFDEDD\" height=\"15\" width=\"40\">-12.25</td>, <td bgcolor=\"#DFDEDD\" height=\"15\" width=\"40\">-11.37</td>, <td bgcolor=\"#DFDEDD\" height=\"15\" width=\"40\">-11.32</td>, <td bgcolor=\"#DFDEDD\" height=\"15\" width=\"40\">-10.85</td>, <td bgcolor=\"#DFDEDD\" height=\"15\" width=\"40\">-10.00</td>, <td bgcolor=\"#DFDEDD\" height=\"15\" width=\"40\">-9.35</td>, <td bgcolor=\"#DFDEDD\" height=\"15\" width=\"40\">-9.00</td>, <td bgcolor=\"#DFDEDD\" height=\"15\" width=\"40\">-8.50</td>, <td bgcolor=\"#DFDEDD\" height=\"15\" width=\"40\">-8.30</td>, <td bgcolor=\"#DFDEDD\" height=\"15\" width=\"40\">-8.13</td>, <td bgcolor=\"#DFDEDD\" height=\"15\" width=\"40\">-7.71</td>, <td bgcolor=\"#DFDEDD\" height=\"15\" width=\"40\">-7.40</td>, <td bgcolor=\"#DFDEDD\" height=\"15\" width=\"40\">-7.09</td>, <td bgcolor=\"#DFDEDD\" height=\"15\" width=\"40\">-7.05</td>, <td bgcolor=\"#DFDEDD\" height=\"15\" width=\"40\">-6.92</td>, <td bgcolor=\"#DFDEDD\" height=\"15\" width=\"40\">-6.85</td>, <td bgcolor=\"#DFDEDD\" height=\"15\" width=\"40\">-6.85</td>, <td bgcolor=\"#DFDEDD\" height=\"15\" width=\"40\">-6.74</td>, <td bgcolor=\"#DFDEDD\" height=\"15\" width=\"40\">-6.59</td>, <td bgcolor=\"#DFDEDD\" height=\"15\" width=\"40\">-6.51</td>, <td bgcolor=\"#DFDEDD\" height=\"15\" width=\"40\">-6.05</td>, <td bgcolor=\"#DFDEDD\" height=\"15\" width=\"40\">-6.05</td>, <td bgcolor=\"#DFDEDD\" height=\"15\" width=\"40\">-5.90</td>, <td bgcolor=\"#DFDEDD\" height=\"15\" width=\"40\">-5.73</td>, <td bgcolor=\"#DFDEDD\" height=\"15\" width=\"40\">-5.60</td>, <td bgcolor=\"#DFDEDD\" height=\"15\" width=\"40\">-5.54</td>, <td bgcolor=\"#DFDEDD\" height=\"15\" width=\"40\">-5.41</td>, <td bgcolor=\"#DFDEDD\" height=\"15\" width=\"40\">-5.29</td>, <td bgcolor=\"#DFDEDD\" height=\"15\" width=\"40\">-5.22</td>, <td bgcolor=\"#DFDEDD\" height=\"15\" width=\"40\">-5.18</td>, <td bgcolor=\"#DFDEDD\" height=\"15\" width=\"40\">-5.07</td>, <td bgcolor=\"#DFDEDD\" height=\"15\" width=\"40\">-5.00</td>, <td bgcolor=\"#DFDEDD\" height=\"15\" width=\"40\">-5.00</td>, <td bgcolor=\"#DFDEDD\" height=\"15\" width=\"40\">-5.00</td>, <td bgcolor=\"#DFDEDD\" height=\"15\" width=\"40\">-4.99</td>, <td bgcolor=\"#DFDEDD\" height=\"15\" width=\"40\">-4.99</td>, <td bgcolor=\"#DFDEDD\" height=\"15\" width=\"40\">-4.98</td>, <td bgcolor=\"#DFDEDD\" height=\"15\" width=\"40\">-4.97</td>, <td bgcolor=\"#DFDEDD\" height=\"15\" width=\"40\">-4.97</td>, <td bgcolor=\"#DFDEDD\" height=\"15\" width=\"40\">-4.97</td>, <td bgcolor=\"#DFDEDD\" height=\"15\" width=\"40\">-4.97</td>, <td bgcolor=\"#DFDEDD\" height=\"15\" width=\"40\">-4.97</td>, <td bgcolor=\"#DFDEDD\" height=\"15\" width=\"40\">-4.97</td>, <td bgcolor=\"#DFDEDD\" height=\"15\" width=\"40\">-4.96</td>, <td bgcolor=\"#DFDEDD\" height=\"15\" width=\"40\">-4.96</td>, <td bgcolor=\"#DFDEDD\" height=\"15\" width=\"40\">-4.96</td>, <td bgcolor=\"#DFDEDD\" height=\"15\" width=\"40\">-4.96</td>, <td bgcolor=\"#DFDEDD\" height=\"15\" width=\"40\">-4.96</td>, <td bgcolor=\"#DFDEDD\" height=\"15\" width=\"40\">-4.95</td>, <td bgcolor=\"#DFDEDD\" height=\"15\" width=\"40\">-4.95</td>]\n"
     ]
    },
    {
     "data": {
      "text/plain": [
       "['TTML', 'MEHAI', 'TTIL', 'COMMEXTECH', 'STEELXIND']"
      ]
     },
     "execution_count": 6,
     "metadata": {},
     "output_type": "execute_result"
    }
   ],
   "source": [
    "from bs4 import BeautifulSoup\n",
    "import requests\n",
    "\n",
    "\n",
    "#losers url\n",
    "url = 'http://www.bseindia.com/markets/equity/EQReports/mktwatchR.aspx?expandable=2&filter=loser*all$all$'\n",
    "page = requests.get(url)\n",
    "\n",
    "soup = BeautifulSoup(page.content, 'html.parser')\n",
    "table = soup.find( \"table\", {\"id\":\"ctl00_ContentPlaceHolder1_grd1\"} )\n",
    "\n",
    "tr = table.find_all('a', class_='tablebluelink')\n",
    "\n",
    "#getting all company names\n",
    "company = []\n",
    "for i in range(len(tr)):\n",
    "    company.append(tr[i].text)\n",
    "\n",
    "tr = table.find_all('td', class_='TTRow_right')\n",
    "\n",
    "# LTP of a company\n",
    "LTP = []\n",
    "for i in range(len(tr)):\n",
    "    LTP.append(tr[i].text)\n",
    "\n",
    "td = table.find_all('td', bgcolor=\"#DFDEDD\")\n",
    "print(td)\n",
    "PChg = []\n",
    "for i in range(len(td)):\n",
    "    PChg.append(td[i].text)\n",
    "\n",
    "#change of a company in Chg list\n",
    "Chg = []\n",
    "for i in range(len(LTP)):\n",
    "    if i+1 < len(LTP):\n",
    "        Chg.append(LTP[i+1])\n",
    "    \n",
    "#changing datatype of all elements of lists to string\n",
    "[str(i) for i in LTP]\n",
    "[str(i) for i in Chg]\n",
    "[str(i) for i in company]\n",
    "\n",
    "#slicing for top 5 only\n",
    "LTP = LTP[0:5]\n",
    "Chg = Chg[0:5]\n",
    "PChg = PChg[0:5]\n",
    "company = company[0:5]\n",
    "company"
   ]
  },
  {
   "cell_type": "code",
   "execution_count": 5,
   "metadata": {
    "collapsed": true
   },
   "outputs": [],
   "source": [
    "from pymongo import MongoClient\n",
    "import urllib \n",
    "\n",
    "password = urllib.parse.quote_plus('gistinterns@4321@!')\n",
    "mongo_client = MongoClient('mongodb://gistinterns:' + password + '@api3.gistai.com:30001')\n",
    "\n",
    "\n",
    "\n",
    "\n",
    "def insertDocument(dbName,mongoCollection,data):\n",
    "    dbGistButton = mongo_client[dbName]\n",
    "    collection = dbGistButton[mongoCollection]\n",
    "    insertOptions = {}\n",
    "    insertOptions['w'] = 1\n",
    "    insertOptions['j'] = True\n",
    "    try:\n",
    "        insertResult = collection.insert_one(data)\n",
    "        print(\"**********************************************INSERTED THE DATA**************************************\")\n",
    "        return insertResult.inserted_id\n",
    "    except Exception as e:\n",
    "        print(e)\n",
    "        return e"
   ]
  },
  {
   "cell_type": "code",
   "execution_count": 7,
   "metadata": {},
   "outputs": [
    {
     "name": "stdout",
     "output_type": "stream",
     "text": [
      "**********************************************INSERTED THE DATA**************************************\n",
      "**********************************************INSERTED THE DATA**************************************\n",
      "**********************************************INSERTED THE DATA**************************************\n",
      "**********************************************INSERTED THE DATA**************************************\n",
      "**********************************************INSERTED THE DATA**************************************\n"
     ]
    }
   ],
   "source": [
    "length = len(LTP)\n",
    "i =0\n",
    "while i < length:\n",
    "    insertDocument(\"Interns\", \"Ajay\", {\"loser\":'loser',\"Company\":company[i],\"LTP\":LTP[i], \"Chg\": Chg[i]})\n",
    "    i+=1"
   ]
  },
  {
   "cell_type": "code",
   "execution_count": null,
   "metadata": {
    "collapsed": true
   },
   "outputs": [],
   "source": []
  }
 ],
 "metadata": {
  "kernelspec": {
   "display_name": "Python 3",
   "language": "python",
   "name": "python3"
  },
  "language_info": {
   "codemirror_mode": {
    "name": "ipython",
    "version": 3
   },
   "file_extension": ".py",
   "mimetype": "text/x-python",
   "name": "python",
   "nbconvert_exporter": "python",
   "pygments_lexer": "ipython3",
   "version": "3.6.2"
  }
 },
 "nbformat": 4,
 "nbformat_minor": 2
}
