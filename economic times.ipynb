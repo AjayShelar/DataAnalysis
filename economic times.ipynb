{
 "cells": [
  {
   "cell_type": "code",
   "execution_count": 14,
   "metadata": {},
   "outputs": [
    {
     "name": "stderr",
     "output_type": "stream",
     "text": [
      "C:\\Users\\AjayShelar\\Anaconda3\\lib\\site-packages\\ipykernel_launcher.py:30: DeprecationWarning: MyOpener style of invoking requests is deprecated. Use newer urlopen functions/methods\n"
     ]
    },
    {
     "name": "stdout",
     "output_type": "stream",
     "text": [
      "Rs 10-Lakh limit on P2P lending will hurt industry: Founders\n"
     ]
    }
   ],
   "source": [
    "from imp import reload\n",
    "import urllib\n",
    "import requests\n",
    "from bs4 import BeautifulSoup\n",
    "from urllib.request import FancyURLopener\n",
    "from lxml import etree as ET\n",
    "from lxml import html\n",
    "from lxml import html as lh\n",
    "# from urllib.parse import urljoin\n",
    "import time\n",
    "import sys\n",
    "import os\n",
    "import os.path\n",
    "#import pymongo\n",
    "# from newspaper import Config, Article\n",
    "import string\n",
    "import random\n",
    "import re\n",
    "# import hashlib\n",
    "import datetime\n",
    "import calendar\n",
    "import time\n",
    "import os\n",
    "\n",
    "\n",
    "def get_content(url):\n",
    "    class MyOpener(FancyURLopener):\n",
    "        version = 'Mozilla/5.0 (Windows; U; Windows NT 5.1; it; rv:1.8.1.11) Gecko/20071127 Firefox/2.0.0.11'\n",
    "\n",
    "    MyOpener = MyOpener()\n",
    "    page = MyOpener.open(url)\n",
    "    xml = ET.parse(page)\n",
    "\n",
    "    perma = {}\n",
    "    items = xml.findall('//item')\n",
    "    for item in items:\n",
    "        link = item.find('./link')\n",
    "        title = item.find('./title')\n",
    "        perma[link.text] = title.text\n",
    "    \n",
    "    #getting articles titles from et for stock\n",
    "    articles = []\n",
    "    for value in perma.values():\n",
    "        articles.append(value)\n",
    "    \n",
    "        \n",
    "    \n",
    "    \n",
    "    \n",
    "# #         print(perma)\n",
    "#     for k in sorted(perma)[:10]:\n",
    "#         print(k)\n",
    "#         html = requests.get(k)\n",
    "# #         print(html.status_code)\n",
    "        \n",
    "#         if html.status_code == 200 or html.status_code == 404:\n",
    "#             soup = BeautifulSoup(html.content, \"lxml\")\n",
    "#             if soup.find('div', class_='publish_on flt'):\n",
    "#                 Date =soup.find('div', class_='publish_on flt')\n",
    "#                 print(Date.text, '\\n\\n')\n",
    "            \n",
    "#             if soup.find('div', class_='Normal'):\n",
    "#                 article = soup.find('div', class_='Normal')\n",
    "#                 print(article.text, '\\n\\n')\n",
    "            \n",
    "#             date_time = Date.text.replace(' IST','').replace('Updated: ','')\n",
    "#             print(date_time)\n",
    "#             pattern = '%b %d, %Y, %I.%M %p'\n",
    "#             epoch = int(time.mktime(time.strptime(date_time, pattern)))\n",
    "#             os.environ['TZ']='UTC'\n",
    "#             print(epoch)\n",
    "\n",
    "\n",
    "  \n",
    "    \n",
    "\n",
    "\n",
    "        \n",
    "        \n",
    "    \n",
    "\n",
    "def main():\n",
    "        link = 'http://economictimes.indiatimes.com/markets/stocks/rssfeeds/2146842.cms'\n",
    "        get_content(link)\n",
    "\n",
    "if __name__ == '__main__':\n",
    "\tmain()\n"
   ]
  },
  {
   "cell_type": "code",
   "execution_count": null,
   "metadata": {
    "collapsed": true
   },
   "outputs": [],
   "source": []
  }
 ],
 "metadata": {
  "kernelspec": {
   "display_name": "Python 3",
   "language": "python",
   "name": "python3"
  },
  "language_info": {
   "codemirror_mode": {
    "name": "ipython",
    "version": 3
   },
   "file_extension": ".py",
   "mimetype": "text/x-python",
   "name": "python",
   "nbconvert_exporter": "python",
   "pygments_lexer": "ipython3",
   "version": "3.6.2"
  }
 },
 "nbformat": 4,
 "nbformat_minor": 2
}
