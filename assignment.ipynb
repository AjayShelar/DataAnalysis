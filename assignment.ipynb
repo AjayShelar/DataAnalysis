{
 "cells": [
  {
   "cell_type": "code",
   "execution_count": 1,
   "metadata": {
    "collapsed": true
   },
   "outputs": [],
   "source": [
    "import bs4"
   ]
  },
  {
   "cell_type": "code",
   "execution_count": 3,
   "metadata": {
    "collapsed": true
   },
   "outputs": [],
   "source": [
    "from urllib.request import urlopen as ureq"
   ]
  },
  {
   "cell_type": "code",
   "execution_count": 4,
   "metadata": {
    "collapsed": true
   },
   "outputs": [],
   "source": [
    "from bs4 import BeautifulSoup"
   ]
  },
  {
   "cell_type": "code",
   "execution_count": 54,
   "metadata": {},
   "outputs": [
    {
     "name": "stdout",
     "output_type": "stream",
     "text": [
      " अधिकाऱ्याच्या खुर्चीत राधे माँ, पोलिस स्टेशनमध्ये VIP ट्रीटमेंट  \n",
      "\n",
      "\r\n",
      "          Thursday, 5 October 2017 12:26 PM      \n",
      "\n",
      "नवी दिल्ली : भोंदू बाबांच्या यादीत वरच्या स्थानावर असलेल्या राधे माँला दिल्ली पोलिसांनी व्हीआयपी ट्रीटमेंट दिल्याचं समोर आलं आहे. स्वयंघोषित धर्मगुरुदिल्लीच्या विवेक विहार पोलिस स्टेशनमध्ये एसएचओच्या खुर्चीवर विराजमान झाल्याचा फोटो सध्या व्हायरल होत आहे.\n",
      "नवरात्र उत्सवाच्या काळात राधे माँ दिल्लीच्या विवेक विहार पोलिस ठाण्यात आली होती. यावेळी एसएचओ संजय शर्मा यांनी तिला चक्क आपली खुर्ची बसायला दिली. इतकंच नव्हे तर त्यांनी राधे माँचा आशीर्वादही घेतला.\n",
      "राधे माँने प्रसाद म्हणून संजय शर्मा यांच्या गळ्यात ओढणीही टाकली. त्यांच्या टेबलवर फुलांच्या पाकळ्या पसरलेल्या आहेत. तर पोलिस स्टेशनमधील काही कर्मचारीही भक्तांच्या मुद्रेत दिसत आहेत.\n",
      "ही सगळी दृश्यं व्हायरल झाल्यानंतर आता स्पष्टीकरण देताना दिल्ली पोलिसांना कसरत करावी लागत आहे. वरिष्ठ पोलिस अधिकाऱ्यांनी चौकशीचे आदेश दिले आहेत. पोलिस उपायुक्तांमार्फत या प्रकरणाची चौकशी होणार आहे.\n",
      "राधे माँवर हुंड्यासाठी छळ, लैंगिक छळ आणि धमकी देणं असे अनेक गंभीर आरोप आहेत.\n",
      "\n",
      "\n",
      "\n",
      "\n",
      "\n",
      "Thursday 5 October 2017 12:26\n",
      "1507186560\n"
     ]
    }
   ],
   "source": [
    "from imp import reload\n",
    "import urllib\n",
    "import requests\n",
    "from bs4 import BeautifulSoup\n",
    "from urllib.request import FancyURLopener\n",
    "from lxml import etree as ET\n",
    "from lxml import html\n",
    "from lxml import html as lh\n",
    "# from urllib.parse import urljoin\n",
    "import time\n",
    "import sys\n",
    "import os\n",
    "import os.path\n",
    "#import pymongo\n",
    "# from newspaper import Config, Article\n",
    "import string\n",
    "import random\n",
    "import re\n",
    "# import hashlib\n",
    "import datetime\n",
    "import calendar\n",
    "import time\n",
    "import os\n",
    "\n",
    "\n",
    "def get_content(url):\n",
    "    class MyOpener(FancyURLopener):\n",
    "        version = 'Mozilla/5.0 (Windows; U; Windows NT 5.1; it; rv:1.8.1.11) Gecko/20071127 Firefox/2.0.0.11'\n",
    "\n",
    "    MyOpener = MyOpener()\n",
    "    page = MyOpener.open(url)\n",
    "    xml = ET.parse(page)\n",
    "\n",
    "    perma = {}\n",
    "    items = xml.findall('//item')\n",
    "    for item in items:\n",
    "        link = item.find('./link')\n",
    "        title = item.find('./title')\n",
    "        perma[link.text] = title.text\n",
    "        \n",
    "    html = requests.get(url)\n",
    "    if html.status_code == 200 or html.status_code == 404:\n",
    "            soup = BeautifulSoup(html.content, \"lxml\")\n",
    "            \n",
    "            if soup.find('div', class_='col-sm-9'):\n",
    "                article = soup.find('div', class_='col-sm-9')\n",
    "                \n",
    "                if article.find('h2', itemprop='headline'):\n",
    "                    Data = article.find('h2', itemprop='headline')\n",
    "                    Data2 = article.find('h2', class_='small_intro')\n",
    "                    print(Data.text,'\\n')\n",
    "#                     print(Data2.text)\n",
    "                \n",
    "                if article.find('div', class_='col-sm-12 _src'):\n",
    "                    Date = article.find('span', itemprop='dateModified')\n",
    "                    print(Date.text.strip('>'))\n",
    "                \n",
    "                    \n",
    "                    \n",
    "                if article.find('div', class_='_picCon'):\n",
    "                    Data = article.find('div', class_='_picCon')\n",
    "#                     print(Data)\n",
    "                    for a in Data.findAll('img'):\n",
    "                        print(a)\n",
    "                    print(Data.text)\n",
    "                \n",
    "                \n",
    "                \n",
    "                \n",
    "                date_time = (Date.text.strip('>').strip(' ').strip('\\r').strip('\\n').strip(' ').replace(',','').strip(' PM'))\n",
    "                print(date_time)\n",
    "                pattern = '%A %d %B %Y %H:%M'\n",
    "                epoch = int(time.mktime(time.strptime(date_time, pattern)))\n",
    "                os.environ['TZ']='UTC'\n",
    "                print(epoch)\n",
    "\n",
    "\n",
    "  \n",
    "    \n",
    "\n",
    "\n",
    "        \n",
    "        \n",
    "    \n",
    "\n",
    "def main():\n",
    "        link = 'http://abpmajha.abplive.in/india/radhe-ma-welcomed-at-vivek-vihar-police-station-in-delhi-sat-on-chair-of-sho-464667'\n",
    "        get_content(link)\n",
    "\n",
    "if __name__ == '__main__':\n",
    "\tmain()\n"
   ]
  },
  {
   "cell_type": "code",
   "execution_count": null,
   "metadata": {
    "collapsed": true
   },
   "outputs": [],
   "source": []
  }
 ],
 "metadata": {
  "kernelspec": {
   "display_name": "Python 3",
   "language": "python",
   "name": "python3"
  },
  "language_info": {
   "codemirror_mode": {
    "name": "ipython",
    "version": 3
   },
   "file_extension": ".py",
   "mimetype": "text/x-python",
   "name": "python",
   "nbconvert_exporter": "python",
   "pygments_lexer": "ipython3",
   "version": "3.6.2"
  }
 },
 "nbformat": 4,
 "nbformat_minor": 2
}
